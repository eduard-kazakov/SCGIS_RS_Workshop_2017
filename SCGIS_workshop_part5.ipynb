{
 "cells": [
  {
   "cell_type": "markdown",
   "metadata": {},
   "source": [
    "<table>\n",
    "    <tr>\n",
    "        <td>\n",
    "            <img src=\"extra/logo_scgis.png\" width=\"100\" height=\"100\" />\n",
    "        </td>\n",
    "        <td>\n",
    "        <img src=\"extra/nansen_logo.png\" width=\"150\" height=\"150\" />\n",
    "        </td>\n",
    "        <td>\n",
    "            <center>\n",
    "                <font size = 1>\n",
    "                27-28 ОКТЯБРЯ 2017, САНКТ-ПЕТЕРБУРГ, УНИВЕРСИТЕТ ИТМО<br>\n",
    "                КОНФЕРЕНЦИЯ СООБЩЕСТВА ПРИРОДООХРАННЫХ ГИС В РОССИИ<br><br>\n",
    "                </font>\n",
    "                <font size = 3>\n",
    "                Материалы к мастер-классу<br> <b>Программирование тематических алгоритмов обработки ДДЗЗ</b><br><br>\n",
    "                </font>\n",
    "                <font size = 2>\n",
    "                <b>Эдуард Казаков</b><br>\n",
    "                Международный центр по окружающей среде и дистанционному зондированию им. Нансена\n",
    "                </font>\n",
    "            </center>\n",
    "        </td>\n",
    "    </tr>\n",
    "</table>"
   ]
  },
  {
   "cell_type": "markdown",
   "metadata": {},
   "source": [
    "<center>\n",
    "<b>Часть 5. Бонус. Вызов функций сторонних приложений</b>\n",
    "</center>"
   ]
  },
  {
   "cell_type": "markdown",
   "metadata": {},
   "source": [
    "ESA SNAP\n",
    "http://step.esa.int/docs/v5.0/apidoc/engine/"
   ]
  },
  {
   "cell_type": "code",
   "execution_count": null,
   "metadata": {
    "collapsed": true
   },
   "outputs": [],
   "source": [
    "# радиометрическая калибровка данных Sentnel-1\n",
    "\n",
    "import snappy\n",
    "\n",
    "from snappy import ProductIO\n",
    "from snappy import HashMap\n",
    "from snappy import GPF\n",
    "\n",
    "sentinel_1 = ProductIO.readProduct('.../manifest.safe\")\n",
    "\n",
    "parameters = HashMap() \n",
    "parameters.put('outputSigmaBand', True) \n",
    "parameters.put('sourceBands', 'Intensity_' + 'HV') \n",
    "parameters.put('selectedPolarisations', 'HV') \n",
    "parameters.put('outputImageScaleInDb', False)  \n",
    "\n",
    "target_0 = GPF.createProduct(\"Calibration\", parameters, sentinel_1) \n",
    "ProductIO.writeProduct(target_0, 'calibrated.dim', 'BEAM-DIMAP')"
   ]
  },
  {
   "cell_type": "markdown",
   "metadata": {},
   "source": [
    "Orfeo toolbox\n",
    "https://www.orfeo-toolbox.org/doxygen/modules.html"
   ]
  },
  {
   "cell_type": "code",
   "execution_count": null,
   "metadata": {
    "collapsed": true
   },
   "outputs": [],
   "source": [
    "import otbApplication\n",
    "\n",
    "app = otbApplication.Registry.CreateApplication(\"Smoothing\")\n",
    "\n",
    "app.SetParameterString('in', '.../data.tif')\n",
    "app.SetParameterString(\"type\", 'gaussian')\n",
    "app.SetParameterString(\"out\", \"out.tif\")\n",
    "\n",
    "app.ExecuteAndWriteOutput()"
   ]
  },
  {
   "cell_type": "markdown",
   "metadata": {},
   "source": [
    "SAGA, GRASS GIS, QGIS, ArcGIS etc...\n",
    "\n",
    "\n",
    "http://qgis.org/api/\n",
    "\n",
    "https://developers.arcgis.com/python/\n",
    "\n",
    "https://grasswiki.osgeo.org/wiki/GRASS_and_Python\n",
    "\n"
   ]
  }
 ],
 "metadata": {
  "kernelspec": {
   "display_name": "Python 2",
   "language": "python",
   "name": "python2"
  },
  "language_info": {
   "codemirror_mode": {
    "name": "ipython",
    "version": 2
   },
   "file_extension": ".py",
   "mimetype": "text/x-python",
   "name": "python",
   "nbconvert_exporter": "python",
   "pygments_lexer": "ipython2",
   "version": "2.7.13"
  }
 },
 "nbformat": 4,
 "nbformat_minor": 2
}
